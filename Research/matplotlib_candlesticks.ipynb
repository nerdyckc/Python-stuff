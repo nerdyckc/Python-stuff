{
 "cells": [
  {
   "cell_type": "code",
   "execution_count": 58,
   "metadata": {
    "collapsed": false
   },
   "outputs": [],
   "source": [
    "from matplotlib.finance import fetch_historical_yahoo as yahooHist\n",
    "from matplotlib.finance import candlestick_ohlc as candle\n",
    "from matplotlib.finance import parse_yahoo_historical_ohlc as parseYahoo\n",
    "import matplotlib.dates as mdates\n",
    "import matplotlib.ticker as mticker\n",
    "import matplotlib.pyplot as plt\n",
    "import numpy as np"
   ]
  },
  {
   "cell_type": "code",
   "execution_count": 91,
   "metadata": {
    "collapsed": true
   },
   "outputs": [],
   "source": [
    "import numpy as np\n",
    "import matplotlib.pyplot as plt\n",
    "import matplotlib.dates as mdates\n",
    "from matplotlib.finance import quotes_historical_yahoo_ohlc, candlestick_ohlc\n",
    "\n",
    "\n",
    "def weekday_candlestick(ohlc_data, ax, fmt='%b %d', freq=7, **kwargs):\n",
    "    \"\"\" Wrapper function for matplotlib.finance.candlestick_ohlc\n",
    "        that artificially spaces data to avoid gaps from weekends \"\"\"\n",
    "\n",
    "    # Convert data to numpy array\n",
    "    ohlc_data_arr = np.array(ohlc_data)\n",
    "    ohlc_data_arr2 = np.hstack(\n",
    "        [np.arange(ohlc_data_arr[:,0].size)[:,np.newaxis], ohlc_data_arr[:,1:]])\n",
    "    ndays = ohlc_data_arr2[:,0]  # array([0, 1, 2, ... n-2, n-1, n])\n",
    "\n",
    "    # Convert matplotlib date numbers to strings based on `fmt`\n",
    "    dates = mdates.num2date(ohlc_data_arr[:,0])\n",
    "    date_strings = []\n",
    "    for date in dates:\n",
    "        date_strings.append(date.strftime(fmt))\n",
    "\n",
    "    # Plot candlestick chart\n",
    "    candlestick_ohlc(ax, ohlc_data_arr2, **kwargs)\n",
    "\n",
    "    # Format x axis\n",
    "    ax.set_xticks(ndays[::freq])\n",
    "    ax.set_xticklabels(date_strings[::freq], rotation=45, ha='right')\n",
    "    ax.set_xlim(ndays.min(), ndays.max())\n",
    "\n",
    "    plt.show()"
   ]
  },
  {
   "cell_type": "code",
   "execution_count": 38,
   "metadata": {
    "collapsed": false
   },
   "outputs": [],
   "source": [
    "fh = yahooHist('^HSI',(2016,12,31),(2017,3,15))\n",
    "quotes = parseYahoo(fh, adjusted=True)"
   ]
  },
  {
   "cell_type": "code",
   "execution_count": 88,
   "metadata": {
    "collapsed": false
   },
   "outputs": [],
   "source": [
    "ax1.xaxis.set_major_formatter(mdates.DateFormatter('%Y-%m-%d'))\n",
    "ax1.xaxis.set_major_locator(mticker.MaxNLocator(10))"
   ]
  },
  {
   "cell_type": "code",
   "execution_count": 90,
   "metadata": {
    "collapsed": false,
    "scrolled": true
   },
   "outputs": [
    {
     "data": {
      "text/plain": [
       "([<matplotlib.lines.Line2D at 0x543c46a0>,\n",
       "  <matplotlib.lines.Line2D at 0x54664470>,\n",
       "  <matplotlib.lines.Line2D at 0x54668588>,\n",
       "  <matplotlib.lines.Line2D at 0x546706a0>,\n",
       "  <matplotlib.lines.Line2D at 0x546757b8>,\n",
       "  <matplotlib.lines.Line2D at 0x5467a8d0>,\n",
       "  <matplotlib.lines.Line2D at 0x5467f9e8>,\n",
       "  <matplotlib.lines.Line2D at 0x54686b00>,\n",
       "  <matplotlib.lines.Line2D at 0x5468ec50>,\n",
       "  <matplotlib.lines.Line2D at 0x54692d68>,\n",
       "  <matplotlib.lines.Line2D at 0x5469ae80>,\n",
       "  <matplotlib.lines.Line2D at 0x546a0f98>,\n",
       "  <matplotlib.lines.Line2D at 0x546a5fd0>,\n",
       "  <matplotlib.lines.Line2D at 0x546b31d0>,\n",
       "  <matplotlib.lines.Line2D at 0x546b82e8>,\n",
       "  <matplotlib.lines.Line2D at 0x546be400>,\n",
       "  <matplotlib.lines.Line2D at 0x546c6518>,\n",
       "  <matplotlib.lines.Line2D at 0x546cc630>,\n",
       "  <matplotlib.lines.Line2D at 0x54693748>,\n",
       "  <matplotlib.lines.Line2D at 0x546d6860>,\n",
       "  <matplotlib.lines.Line2D at 0x546dd978>,\n",
       "  <matplotlib.lines.Line2D at 0x546e4a90>,\n",
       "  <matplotlib.lines.Line2D at 0x546e9be0>,\n",
       "  <matplotlib.lines.Line2D at 0x546efcf8>,\n",
       "  <matplotlib.lines.Line2D at 0x546f5e10>,\n",
       "  <matplotlib.lines.Line2D at 0x546fbf28>,\n",
       "  <matplotlib.lines.Line2D at 0x54701f60>,\n",
       "  <matplotlib.lines.Line2D at 0x5470e160>,\n",
       "  <matplotlib.lines.Line2D at 0x54714278>,\n",
       "  <matplotlib.lines.Line2D at 0x5471c390>,\n",
       "  <matplotlib.lines.Line2D at 0x547224a8>,\n",
       "  <matplotlib.lines.Line2D at 0x547255c0>,\n",
       "  <matplotlib.lines.Line2D at 0x5472d6d8>,\n",
       "  <matplotlib.lines.Line2D at 0x547337f0>,\n",
       "  <matplotlib.lines.Line2D at 0x5473a908>,\n",
       "  <matplotlib.lines.Line2D at 0x5473fa20>,\n",
       "  <matplotlib.lines.Line2D at 0x54747b38>,\n",
       "  <matplotlib.lines.Line2D at 0x5474ec88>,\n",
       "  <matplotlib.lines.Line2D at 0x54752da0>,\n",
       "  <matplotlib.lines.Line2D at 0x54758eb8>,\n",
       "  <matplotlib.lines.Line2D at 0x5475efd0>,\n",
       "  <matplotlib.lines.Line2D at 0x54762588>,\n",
       "  <matplotlib.lines.Line2D at 0x54770208>,\n",
       "  <matplotlib.lines.Line2D at 0x54777320>,\n",
       "  <matplotlib.lines.Line2D at 0x5477b438>,\n",
       "  <matplotlib.lines.Line2D at 0x54783550>,\n",
       "  <matplotlib.lines.Line2D at 0x54789668>,\n",
       "  <matplotlib.lines.Line2D at 0x5478f780>,\n",
       "  <matplotlib.lines.Line2D at 0x54795898>],\n",
       " [<matplotlib.patches.Rectangle at 0x543bfda0>,\n",
       "  <matplotlib.patches.Rectangle at 0x54664588>,\n",
       "  <matplotlib.patches.Rectangle at 0x546686a0>,\n",
       "  <matplotlib.patches.Rectangle at 0x546707b8>,\n",
       "  <matplotlib.patches.Rectangle at 0x546758d0>,\n",
       "  <matplotlib.patches.Rectangle at 0x5467a9e8>,\n",
       "  <matplotlib.patches.Rectangle at 0x5467fb00>,\n",
       "  <matplotlib.patches.Rectangle at 0x54686c18>,\n",
       "  <matplotlib.patches.Rectangle at 0x5468eb70>,\n",
       "  <matplotlib.patches.Rectangle at 0x5469a160>,\n",
       "  <matplotlib.patches.Rectangle at 0x546a0278>,\n",
       "  <matplotlib.patches.Rectangle at 0x546a5320>,\n",
       "  <matplotlib.patches.Rectangle at 0x546aa1d0>,\n",
       "  <matplotlib.patches.Rectangle at 0x546b32e8>,\n",
       "  <matplotlib.patches.Rectangle at 0x546b8400>,\n",
       "  <matplotlib.patches.Rectangle at 0x546be518>,\n",
       "  <matplotlib.patches.Rectangle at 0x546c6630>,\n",
       "  <matplotlib.patches.Rectangle at 0x546cc748>,\n",
       "  <matplotlib.patches.Rectangle at 0x54693860>,\n",
       "  <matplotlib.patches.Rectangle at 0x546d6978>,\n",
       "  <matplotlib.patches.Rectangle at 0x546dda90>,\n",
       "  <matplotlib.patches.Rectangle at 0x546e4ba8>,\n",
       "  <matplotlib.patches.Rectangle at 0x546e9ac8>,\n",
       "  <matplotlib.patches.Rectangle at 0x546f50f0>,\n",
       "  <matplotlib.patches.Rectangle at 0x546fb208>,\n",
       "  <matplotlib.patches.Rectangle at 0x54701358>,\n",
       "  <matplotlib.patches.Rectangle at 0x54709160>,\n",
       "  <matplotlib.patches.Rectangle at 0x5470e278>,\n",
       "  <matplotlib.patches.Rectangle at 0x54714390>,\n",
       "  <matplotlib.patches.Rectangle at 0x5471c4a8>,\n",
       "  <matplotlib.patches.Rectangle at 0x547225c0>,\n",
       "  <matplotlib.patches.Rectangle at 0x547256d8>,\n",
       "  <matplotlib.patches.Rectangle at 0x5472d7f0>,\n",
       "  <matplotlib.patches.Rectangle at 0x54733908>,\n",
       "  <matplotlib.patches.Rectangle at 0x5473aa20>,\n",
       "  <matplotlib.patches.Rectangle at 0x5473fb38>,\n",
       "  <matplotlib.patches.Rectangle at 0x54747c50>,\n",
       "  <matplotlib.patches.Rectangle at 0x54752128>,\n",
       "  <matplotlib.patches.Rectangle at 0x54758198>,\n",
       "  <matplotlib.patches.Rectangle at 0x5475e2b0>,\n",
       "  <matplotlib.patches.Rectangle at 0x54762358>,\n",
       "  <matplotlib.patches.Rectangle at 0x5476a208>,\n",
       "  <matplotlib.patches.Rectangle at 0x54770320>,\n",
       "  <matplotlib.patches.Rectangle at 0x54777438>,\n",
       "  <matplotlib.patches.Rectangle at 0x5477b550>,\n",
       "  <matplotlib.patches.Rectangle at 0x54783668>,\n",
       "  <matplotlib.patches.Rectangle at 0x54789780>,\n",
       "  <matplotlib.patches.Rectangle at 0x5478f898>,\n",
       "  <matplotlib.patches.Rectangle at 0x547959b0>])"
      ]
     },
     "execution_count": 90,
     "metadata": {},
     "output_type": "execute_result"
    }
   ],
   "source": [
    "fig, ax1 = plt.subplots(figsize=(15,7))\n",
    "candle(ax1, quotes)"
   ]
  },
  {
   "cell_type": "code",
   "execution_count": null,
   "metadata": {
    "collapsed": false
   },
   "outputs": [],
   "source": []
  },
  {
   "cell_type": "code",
   "execution_count": null,
   "metadata": {
    "collapsed": true
   },
   "outputs": [],
   "source": []
  },
  {
   "cell_type": "code",
   "execution_count": null,
   "metadata": {
    "collapsed": true
   },
   "outputs": [],
   "source": []
  },
  {
   "cell_type": "code",
   "execution_count": null,
   "metadata": {
    "collapsed": true
   },
   "outputs": [],
   "source": []
  }
 ],
 "metadata": {
  "kernelspec": {
   "display_name": "Python 3",
   "language": "python",
   "name": "python3"
  },
  "language_info": {
   "codemirror_mode": {
    "name": "ipython",
    "version": 3
   },
   "file_extension": ".py",
   "mimetype": "text/x-python",
   "name": "python",
   "nbconvert_exporter": "python",
   "pygments_lexer": "ipython3",
   "version": "3.6.0"
  }
 },
 "nbformat": 4,
 "nbformat_minor": 2
}
